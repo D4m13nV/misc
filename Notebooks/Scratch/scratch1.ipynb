{
 "cells": [
  {
   "cell_type": "markdown",
   "metadata": {
    "dotnet_interactive": {
     "language": "csharp"
    }
   },
   "source": [
    "# Scratchpad notebook for playing around with C# code, etc.\r\n",
    "\r\n",
    "https://github.com/dotnet/interactive/tree/main/docs\r\n",
    "\r\n",
    "<img src=\"snail1.jpg\" />"
   ]
  },
  {
   "cell_type": "code",
   "execution_count": null,
   "metadata": {
    "dotnet_interactive": {
     "language": "csharp"
    }
   },
   "outputs": [
    {
     "data": {
      "text/html": [
       "<div><strong>Restore sources</strong><ul><li><span>C:\\nuget</span></li></ul></div>"
      ]
     },
     "output_type": "unknown"
    },
    {
     "data": {
      "text/plain": [
       "Installed package Microsoft.AdCenter.Common.TDigest version 1.3.23"
      ]
     },
     "output_type": "unknown"
    },
    {
     "data": {
      "text/plain": [
       "Scratchpad notebook started!\r\n"
      ]
     },
     "output_type": "unknown"
    }
   ],
   "source": [
    "#i \"nuget:C:\\nuget\"\r\n",
    "#r \"nuget:Microsoft.AdCenter.Common.TDigest\"\r\n",
    "Console.WriteLine(\"Scratchpad notebook started!\");"
   ]
  },
  {
   "cell_type": "code",
   "execution_count": null,
   "metadata": {
    "dotnet_interactive": {
     "language": "csharp"
    }
   },
   "outputs": [
    {
     "data": {
      "text/plain": [
       "0.9911409591818854\r\n"
      ]
     },
     "output_type": "unknown"
    },
    {
     "data": {
      "text/plain": [
       "10000"
      ]
     },
     "output_type": "unknown"
    }
   ],
   "source": [
    "using Microsoft.AdCenter.Common.TDigest;\r\n",
    "\r\n",
    "Random r = new Random();\r\n",
    "var td = new MergingDigest(100);\r\n",
    "for (int i = 0; i < 10_000; i++)\r\n",
    "{\r\n",
    "    td.Add(r.NextDouble());\r\n",
    "}\r\n",
    "\r\n",
    "\r\n",
    "var p99 = td.Quantile(0.99);\r\n",
    "\r\n",
    "Console.WriteLine(p99);\r\n",
    "\r\n",
    "var size = td.Size();\r\n",
    "\r\n",
    "size.ToString()"
   ]
  },
  {
   "cell_type": "code",
   "execution_count": null,
   "metadata": {
    "dotnet_interactive": {
     "language": "html"
    }
   },
   "outputs": [
    {
     "data": {
      "text/html": [
       "<b style=\"color:green\">HTML!</b>"
      ]
     },
     "output_type": "unknown"
    }
   ],
   "source": [
    "#!html\r\n",
    "<b style=\"color:green\">HTML!</b>"
   ]
  }
 ],
 "metadata": {
  "interpreter": {
   "hash": "63fd5069d213b44bf678585dea6b12cceca9941eaf7f819626cde1f2670de90d"
  },
  "kernelspec": {
   "display_name": "Python 3.9.1 64-bit",
   "name": "python3"
  },
  "language_info": {
   "name": "python",
   "version": ""
  }
 },
 "nbformat": 4,
 "nbformat_minor": 2
}